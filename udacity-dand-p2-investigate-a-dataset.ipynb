{
 "cells": [
  {
   "cell_type": "markdown",
   "metadata": {},
   "source": [
    "# Investigate a Dataset: Titanic Data"
   ]
  },
  {
   "cell_type": "markdown",
   "metadata": {},
   "source": [
    "## 1. Introduction\n",
    "\n",
    "In this report, I will investigate the Titanic survivor data using exploratory data analysis.\n",
    "\n",
    "In the data wrangling phase, I will determine the appropriate datatypes for our dataset, and I will also show how to handle missing values. \n",
    "\n",
    "In the data exploration phase, I will first look at each variable and its distribution. After that, I will answer two question:\n",
    "\n",
    "1. What factors make people more likely to survive?\n",
    "\n",
    "2. What money can buy? -- Explore relations among passenger class, cabin, and fare. \n",
    "\n",
    "Last, I will conclude this report by summarizing the findings and stating the limitations of my analysis."
   ]
  },
  {
   "cell_type": "markdown",
   "metadata": {},
   "source": [
    "# 2 Data Wrangling"
   ]
  },
  {
   "cell_type": "code",
   "execution_count": 20,
   "metadata": {},
   "outputs": [
    {
     "name": "stdout",
     "output_type": "stream",
     "text": [
      "Populating the interactive namespace from numpy and matplotlib\n"
     ]
    }
   ],
   "source": [
    "import numpy as np\n",
    "import pandas as pd\n",
    "import seaborn as sns\n",
    "import matplotlib.pyplot as plt\n",
    "%pylab inline"
   ]
  },
  {
   "cell_type": "markdown",
   "metadata": {},
   "source": [
    "### 2.1 Handling Data Types\n",
    "\n",
    "After reviewing the original description of the dataset from [the Kaggle website](https://www.kaggle.com/c/titanic/data), the data type of each variable is chosen as following, and categorical variables will be converted to more descriptive labels:\n",
    "\n",
    "| Variable | Definition                                 | Key                                            | Type            |\n",
    "|----------|--------------------------------------------|------------------------------------------------|-----------------|\n",
    "| Survived | Survival                                   | 0 = No, 1 = Yes                                | int (Survived)* |\n",
    "| Pclass   | Ticket class                               | 1 = 1st, 2 = 2nd, 3 = 3rd                      | int (Class)     |\n",
    "| Sex      | Sex                                        |                                                | str             |\n",
    "| Age      | Age in years                               |                                                | float           |\n",
    "| SibSp    | # of siblings / spouses aboard the Titanic |                                                | int             |\n",
    "| ParCh    | # of parents / children aboard the Titanic |                                                | int             |\n",
    "| Ticket   | Ticket number                              |                                                | int             |\n",
    "| Fare     | Passenger fare                             |                                                | float           |\n",
    "| Cabin    | Cabin number                               |                                                | str             |\n",
    "| Embarked | Port of embarkation                        | C = Cherbourg, Q = Queenstown, S = Southampton | str (Port)      |\n",
    "\n",
    "\\* indicate the name of converted categorical variable"
   ]
  },
  {
   "cell_type": "code",
   "execution_count": 4,
   "metadata": {},
   "outputs": [],
   "source": [
    "data_file = 'titanic-data.csv'\n",
    "titanic_df = pd.read_csv(\n",
    "    data_file, \n",
    "    dtype = {'PassengerId': str}\n",
    ")"
   ]
  },
  {
   "cell_type": "code",
   "execution_count": 6,
   "metadata": {},
   "outputs": [],
   "source": [
    "# Convert categorical variables to more descriptive labels.\n",
    "\n",
    "# Create descriptive Survival column from Survived column\n",
    "titanic_df['Survival'] = titanic_df['Survived'].map({0: 'Died', \n",
    "                                                     1: 'Survived'})\n",
    "\n",
    "# Create descriptive Class column from Pclass column \n",
    "titanic_df['Class'] = titanic_df['Pclass'].map({1: 'First Class', \n",
    "                                                2: 'Second Class', \n",
    "                                                3: 'Third Class'})\n",
    "\n",
    "# Create descriptive Port column from Embarked column\n",
    "titanic_df['Port'] = titanic_df['Embarked'].map({'C': 'Cherbourg', \n",
    "                                                 'Q': 'Queenstown', \n",
    "                                                 'S': 'Southampton'})"
   ]
  },
  {
   "cell_type": "markdown",
   "metadata": {},
   "source": [
    "### 2.2 Handling Missing Values"
   ]
  },
  {
   "cell_type": "code",
   "execution_count": 12,
   "metadata": {},
   "outputs": [
    {
     "name": "stdout",
     "output_type": "stream",
     "text": [
      "There are 891 passengers on board.\n"
     ]
    }
   ],
   "source": [
    "total_passengers = len(titanic_df)\n",
    "print(\"There are {} passengers on board.\".format(total_passengers))"
   ]
  },
  {
   "cell_type": "code",
   "execution_count": 13,
   "metadata": {},
   "outputs": [
    {
     "data": {
      "text/plain": [
       "PassengerId      0\n",
       "Survived         0\n",
       "Pclass           0\n",
       "Name             0\n",
       "Sex              0\n",
       "Age            177\n",
       "SibSp            0\n",
       "ParCh            0\n",
       "Ticket           0\n",
       "Fare             0\n",
       "Cabin          687\n",
       "Embarked         2\n",
       "Survival         0\n",
       "Class            0\n",
       "Port             2\n",
       "dtype: int64"
      ]
     },
     "execution_count": 13,
     "metadata": {},
     "output_type": "execute_result"
    }
   ],
   "source": [
    "titanic_df.isnull().sum()"
   ]
  },
  {
   "cell_type": "markdown",
   "metadata": {},
   "source": [
    "There are three columns with missing values: Age, Cabin, and Embarked(Port)."
   ]
  },
  {
   "cell_type": "markdown",
   "metadata": {},
   "source": [
    "#### 2.2.1 Age\n",
    "\n",
    "There are 117 out of 891 passengers missing Age values. Because filling in the missing Age values will affect the distribution of Age variable, and this analysis is mainly exploratory, I will **drop rows with missing Age values**.\n",
    "\n",
    "But as an exercise, I will show here a way of filling in the missing Age values based on the assumption that Age values can be infered from SibSp, ParCh, Class, and Sex.\n",
    "\n",
    "We'll store the filled Age values in a new column called AgeFilled."
   ]
  },
  {
   "cell_type": "code",
   "execution_count": 18,
   "metadata": {
    "collapsed": true
   },
   "outputs": [],
   "source": [
    "titanic_df['AgeFilled'] = titanic_df['Age']"
   ]
  },
  {
   "cell_type": "markdown",
   "metadata": {},
   "source": [
    "##### SibSp and ParCh\n",
    "\n",
    "SibSp(number of siblings/spouses): The number of spouses can only be 0 or 1, therefore any SibSp value greater than 1 can be implied that this person is traveling with sibling(s).\n",
    "\n",
    "ParCh(number of parents/children): The number of parents can only be 2 maximum, any ParCh value greater than 2 can be implied that this person is traveling with child(ren).\n",
    "\n",
    "From these two observations, we can infer two rules:\n",
    "\n",
    "1. If SibSp >= 2, this passenger has at least 1 sibling on board, and if also his/her ParCh >= 1, then he/she is most likly a **child** traveling with sibling(s) and parent(s).\n",
    "\n",
    "2. If Parch >= 3, this passenger has at least 1 child, then he/she has to be an **adult** parent traveling with child(ren).\n",
    "\n",
    "From these two rules, we can divide all rows into three categories: **Child**, **Adult**, **Unknown**, and store this categorical value in a new column ChAd. And we can fill in the Age value of the row categoried with child or parent with its category's median age value."
   ]
  },
  {
   "cell_type": "code",
   "execution_count": 14,
   "metadata": {
    "collapsed": true
   },
   "outputs": [],
   "source": [
    "def child_or_adult(sibsp, parch):\n",
    "    '''Categorize a person as Child, Adult or Unknown\n",
    "    \n",
    "    Arg:\n",
    "    sibsp: the number of siblings/spouses\n",
    "    parch: the number of parents/children\n",
    "    \n",
    "    Return:\n",
    "    A string denotes Child, Adult or Unknown\n",
    "    '''\n",
    "    if sibsp >= 2 and parch >= 1:\n",
    "        return 'Child'\n",
    "    if parch >= 3:\n",
    "        return 'Adult'\n",
    "    return 'Unknown'"
   ]
  },
  {
   "cell_type": "code",
   "execution_count": 17,
   "metadata": {},
   "outputs": [],
   "source": [
    "titanic_df['ChAd'] = titanic_df[['SibSp', 'ParCh']].apply(lambda x: child_or_adult(*x), axis=1)"
   ]
  },
  {
   "cell_type": "code",
   "execution_count": 22,
   "metadata": {},
   "outputs": [
    {
     "data": {
      "text/plain": [
       "<matplotlib.axes._subplots.AxesSubplot at 0x116736fd0>"
      ]
     },
     "execution_count": 22,
     "metadata": {},
     "output_type": "execute_result"
    },
    {
     "data": {
      "image/png": "[encoded data removed]",
      "text/plain": [
       "<matplotlib.figure.Figure at 0x112a297b8>"
      ]
     },
     "metadata": {},
     "output_type": "display_data"
    }
   ],
   "source": [
    "sns.boxplot(x='ChAd', y='AgeFilled', data=titanic_df)"
   ]
  },
  {
   "cell_type": "markdown",
   "metadata": {},
   "source": [
    "Fill Adult, Child groups' missing Age values with groups' median values. Leave Unknown group' missing Age values as NaN."
   ]
  },
  {
   "cell_type": "code",
   "execution_count": 23,
   "metadata": {
    "collapsed": true
   },
   "outputs": [],
   "source": [
    "for group_name, group in titanic_df.groupby('ChAd'):\n",
    "    if group_name == 'Adult' or group_name == 'Child':\n",
    "        group['AgeFilled'].fillna(group['AgeFilled'].median())"
   ]
  },
  {
   "cell_type": "markdown",
   "metadata": {},
   "source": [
    "##### Class and Sex\n",
    "\n",
    "For the passengers categorized as Unknown in the ChAd column, I will fill the missing Age values with the median value of the same Class and Sex group."
   ]
  },
  {
   "cell_type": "code",
   "execution_count": 26,
   "metadata": {},
   "outputs": [
    {
     "data": {
      "text/plain": [
       "<matplotlib.axes._subplots.AxesSubplot at 0x11756b198>"
      ]
     },
     "execution_count": 26,
     "metadata": {},
     "output_type": "execute_result"
    },
    {
     "data": {
      "image/png": "[encoded data removed]",
      "text/plain": [
       "<matplotlib.figure.Figure at 0x116a30710>"
      ]
     },
     "metadata": {},
     "output_type": "display_data"
    }
   ],
   "source": [
    "sns.boxplot(x='Class', y='AgeFilled', hue='Sex', data=titanic_df)"
   ]
  },
  {
   "cell_type": "code",
   "execution_count": 28,
   "metadata": {},
   "outputs": [],
   "source": [
    "fillna_with_median = lambda x: x.fillna(x.median(), inplace=False)\n",
    "titanic_df['AgeFilled'] = titanic_df.groupby(['Sex', 'Pclass'])['AgeFilled'].transform(fillna_with_median)"
   ]
  },
  {
   "cell_type": "markdown",
   "metadata": {},
   "source": [
    "I will look at how the distribution of Age has changed after filling the missing values in the next section."
   ]
  },
  {
   "cell_type": "markdown",
   "metadata": {},
   "source": [
    "#### 2.2.2 Cabin\n",
    "\n",
    "There are 689 out of 891 passengers missing Cabin values. Because the majority of rows are missing cabin values, I decide to exclude these rows during analysis when cabin value is considered."
   ]
  },
  {
   "cell_type": "markdown",
   "metadata": {},
   "source": [
    "#### 2.2.3 Embarked (Port)\n",
    "\n",
    "There are 2 out of 891 passengers missing Embarked values. Here I choose to fill these two missing values with the most frequent value (mode)."
   ]
  },
  {
   "cell_type": "code",
   "execution_count": 29,
   "metadata": {
    "collapsed": true
   },
   "outputs": [],
   "source": [
    "titanic_df['Embarked'] = titanic_df['Embarked'].fillna(titanic_df['Embarked'].mode().iloc[0]);\n",
    "titanic_df['Port'] = titanic_df['Port'].fillna(titanic_df['Port'].mode().iloc[0]);"
   ]
  },
  {
   "cell_type": "code",
   "execution_count": null,
   "metadata": {
    "collapsed": true
   },
   "outputs": [],
   "source": []
  }
 ],
 "metadata": {
  "kernelspec": {
   "display_name": "Python 3",
   "language": "python",
   "name": "python3"
  },
  "language_info": {
   "codemirror_mode": {
    "name": "ipython",
    "version": 3
   },
   "file_extension": ".py",
   "mimetype": "text/x-python",
   "name": "python",
   "nbconvert_exporter": "python",
   "pygments_lexer": "ipython3",
   "version": "3.6.2"
  }
 },
 "nbformat": 4,
 "nbformat_minor": 2
}
