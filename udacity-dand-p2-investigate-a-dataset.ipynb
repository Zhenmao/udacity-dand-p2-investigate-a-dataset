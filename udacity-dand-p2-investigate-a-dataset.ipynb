{
 "cells": [
  {
   "cell_type": "markdown",
   "metadata": {},
   "source": [
    "# Investigate a Dataset: Titanic Data"
   ]
  },
  {
   "cell_type": "markdown",
   "metadata": {},
   "source": [
    "## 1. Introduction\n",
    "\n",
    "In this report, I will investigate the Titanic survivor data using exploratory data analysis.\n",
    "\n",
    "In the data wrangling phase, I will determine the appropriate datatypes for our dataset, and I will also show how to handle missing values. \n",
    "\n",
    "In the data exploration phase, I will first look at each variable and its distribution. After that, I will answer two question:\n",
    "\n",
    "1. What factors make people more likely to survive?\n",
    "\n",
    "2. What money can buy? -- Explore relations among passenger class, cabin, and fare. \n",
    "\n",
    "Last, I will conclude this report by summarizing the findings and stating the limitations of my analysis."
   ]
  },
  {
   "cell_type": "code",
   "execution_count": null,
   "metadata": {
    "collapsed": true
   },
   "outputs": [],
   "source": []
  }
 ],
 "metadata": {
  "kernelspec": {
   "display_name": "Python 3",
   "language": "python",
   "name": "python3"
  },
  "language_info": {
   "codemirror_mode": {
    "name": "ipython",
    "version": 3
   },
   "file_extension": ".py",
   "mimetype": "text/x-python",
   "name": "python",
   "nbconvert_exporter": "python",
   "pygments_lexer": "ipython3",
   "version": "3.6.2"
  }
 },
 "nbformat": 4,
 "nbformat_minor": 2
}
